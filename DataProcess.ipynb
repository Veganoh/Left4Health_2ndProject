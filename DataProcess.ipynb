{
 "cells": [
  {
   "cell_type": "markdown",
   "metadata": {},
   "source": [
    "# Exploratory Data Analysis (EDA)"
   ]
  },
  {
   "cell_type": "markdown",
   "metadata": {},
   "source": [
    "## Imports"
   ]
  },
  {
   "cell_type": "code",
   "execution_count": 71,
   "metadata": {},
   "outputs": [],
   "source": [
    "###########\n",
    "# Imports #\n",
    "###########\n",
    "import pandas as pd\n",
    "import numpy as np\n",
    "import matplotlib.pyplot as plt\n",
    "import seaborn as sb"
   ]
  },
  {
   "cell_type": "markdown",
   "metadata": {},
   "source": [
    "## Data Loading"
   ]
  },
  {
   "cell_type": "code",
   "execution_count": 72,
   "metadata": {},
   "outputs": [
    {
     "name": "stdout",
     "output_type": "stream",
     "text": [
      "Data contains  1267  rows and  24  columns\n"
     ]
    }
   ],
   "source": [
    "data = pd.read_csv('data.csv', encoding='latin-1', sep=';')\n",
    "pd.pandas.set_option('display.max_columns', None)\n",
    "\n",
    "## Replace #BOÞ! in NRS_pain with NaN\n",
    "data['NRS_pain'] = data[['NRS_pain']].replace('#BOÞ!', np.NaN)\n",
    "\n",
    "print(\"Data contains \", data.shape[0],\" rows and \", data.shape[1],\" columns\")"
   ]
  },
  {
   "cell_type": "markdown",
   "metadata": {},
   "source": [
    "## Data Types\n",
    "\n",
    "\n"
   ]
  },
  {
   "cell_type": "markdown",
   "metadata": {},
   "source": [
    "### Group\n",
    "**Description:** Group categorization.\n",
    "\n",
    "**Type:** Categorical Nominal\n",
    "\n",
    "### Sex\n",
    "**Description:** Patient's sex.\n",
    "\n",
    "**Categories:**\n",
    "- 1 (Female)\n",
    "- 2 (Male)\n",
    "\n",
    "**Type:** Categorical Nominal\n",
    "\n",
    "### Age \n",
    "**Description:** Patient's age.\n",
    "\n",
    "**Type:** Numerical Discrete\n",
    "\n",
    "### Patient number per hour\n",
    "**Description:** Number of patients in the Emergency Department per hour.\n",
    "\n",
    "**Type:** Numerical Discrete\n",
    "\n",
    "### Arrival mode\n",
    "**Description:** How patients arrive at the Emergency Department.\n",
    "\n",
    "**Categories:**\n",
    "- 1 (Walking)\n",
    "- 2 (Public Ambulance)\n",
    "- 3 (Private Vehicle)\n",
    "- 4 (Private Ambulance)\n",
    "- 5, 6, 7 (Other)\n",
    "\n",
    "**Type:** Categorical Nominal \n",
    "\n",
    "### Injury \n",
    "**Description:** Whether the patient is injured or not.\n",
    "\n",
    "**Categories:**\n",
    "- 1 (No)\n",
    "- 2 (Yes)\n",
    "\n",
    "**Type:** Categorical Nominal\n",
    "\n",
    "### Chief_complain\n",
    "**Description:** The patient's complaint.\n",
    "\n",
    "**Type:** Categorical Nominal \n",
    "\n",
    "### Mental\n",
    "**Description:** The mental state of the patient.\n",
    "\n",
    "**Categories:**\n",
    "- 1 (Alert)\n",
    "- 2 (Verbal Response)\n",
    "- 3 (Pain Response)\n",
    "- 4 (Unresponsive)\n",
    "\n",
    "**Type:** Categorical Nominal\n",
    "\n",
    "### Pain\n",
    "**Description:** Whether the patient has pain.\n",
    "\n",
    "**Categories:**\n",
    "- 1 (Yes)\n",
    "- 0 (No)\n",
    "\n",
    "**Type:** Binary\n",
    "\n",
    "### NRS_pain\n",
    "**Description:** Nurse's assessment of pain for the patient.\n",
    "\n",
    "**Type:** Numeric\n",
    "\n",
    "### SBP\n",
    "**Description:** Systolic Blood Pressure.\n",
    "\n",
    "**Type:** Numeric\n",
    "\n",
    "### DBP\n",
    "**Description:** Diastolic Blood Pressure.\n",
    "\n",
    "**Type:** Numeric\n",
    "\n",
    "### HR\n",
    "**Description:** Heart Rate.\n",
    "\n",
    "**Type:** Numeric\n",
    "\n",
    "### RR\n",
    "**Description:** Respiratory Rate.\n",
    "\n",
    "**Type:** Numeric\n",
    "\n",
    "### BT\n",
    "**Description:** Body Temperature.\n",
    "\n",
    "**Type:** Numeric"
   ]
  },
  {
   "cell_type": "code",
   "execution_count": 73,
   "metadata": {},
   "outputs": [
    {
     "data": {
      "text/plain": [
       "Group                        int64\n",
       "Sex                          int64\n",
       "Age                          int64\n",
       "Patients number per hour     int64\n",
       "Arrival mode                 int64\n",
       "Injury                       int64\n",
       "Chief_complain              object\n",
       "Mental                       int64\n",
       "Pain                         int64\n",
       "NRS_pain                    object\n",
       "SBP                         object\n",
       "DBP                         object\n",
       "HR                          object\n",
       "RR                          object\n",
       "BT                          object\n",
       "Saturation                  object\n",
       "KTAS_RN                      int64\n",
       "Diagnosis in ED             object\n",
       "Disposition                  int64\n",
       "KTAS_expert                  int64\n",
       "Error_group                  int64\n",
       "Length of stay_min           int64\n",
       "KTAS duration_min           object\n",
       "mistriage                    int64\n",
       "dtype: object"
      ]
     },
     "execution_count": 73,
     "metadata": {},
     "output_type": "execute_result"
    }
   ],
   "source": [
    "data.dtypes"
   ]
  },
  {
   "cell_type": "markdown",
   "metadata": {},
   "source": [
    "## Head"
   ]
  },
  {
   "cell_type": "code",
   "execution_count": 74,
   "metadata": {},
   "outputs": [
    {
     "data": {
      "text/html": [
       "<div>\n",
       "<style scoped>\n",
       "    .dataframe tbody tr th:only-of-type {\n",
       "        vertical-align: middle;\n",
       "    }\n",
       "\n",
       "    .dataframe tbody tr th {\n",
       "        vertical-align: top;\n",
       "    }\n",
       "\n",
       "    .dataframe thead th {\n",
       "        text-align: right;\n",
       "    }\n",
       "</style>\n",
       "<table border=\"1\" class=\"dataframe\">\n",
       "  <thead>\n",
       "    <tr style=\"text-align: right;\">\n",
       "      <th></th>\n",
       "      <th>Group</th>\n",
       "      <th>Sex</th>\n",
       "      <th>Age</th>\n",
       "      <th>Patients number per hour</th>\n",
       "      <th>Arrival mode</th>\n",
       "      <th>Injury</th>\n",
       "      <th>Chief_complain</th>\n",
       "      <th>Mental</th>\n",
       "      <th>Pain</th>\n",
       "      <th>NRS_pain</th>\n",
       "      <th>SBP</th>\n",
       "      <th>DBP</th>\n",
       "      <th>HR</th>\n",
       "      <th>RR</th>\n",
       "      <th>BT</th>\n",
       "      <th>Saturation</th>\n",
       "      <th>KTAS_RN</th>\n",
       "      <th>Diagnosis in ED</th>\n",
       "      <th>Disposition</th>\n",
       "      <th>KTAS_expert</th>\n",
       "      <th>Error_group</th>\n",
       "      <th>Length of stay_min</th>\n",
       "      <th>KTAS duration_min</th>\n",
       "      <th>mistriage</th>\n",
       "    </tr>\n",
       "  </thead>\n",
       "  <tbody>\n",
       "    <tr>\n",
       "      <th>0</th>\n",
       "      <td>2</td>\n",
       "      <td>2</td>\n",
       "      <td>71</td>\n",
       "      <td>3</td>\n",
       "      <td>3</td>\n",
       "      <td>2</td>\n",
       "      <td>right ocular pain</td>\n",
       "      <td>1</td>\n",
       "      <td>1</td>\n",
       "      <td>2</td>\n",
       "      <td>160</td>\n",
       "      <td>100</td>\n",
       "      <td>84</td>\n",
       "      <td>18</td>\n",
       "      <td>36.6</td>\n",
       "      <td>100</td>\n",
       "      <td>2</td>\n",
       "      <td>Corneal abrasion</td>\n",
       "      <td>1</td>\n",
       "      <td>4</td>\n",
       "      <td>2</td>\n",
       "      <td>86</td>\n",
       "      <td>5,00</td>\n",
       "      <td>1</td>\n",
       "    </tr>\n",
       "    <tr>\n",
       "      <th>1</th>\n",
       "      <td>1</td>\n",
       "      <td>1</td>\n",
       "      <td>56</td>\n",
       "      <td>12</td>\n",
       "      <td>3</td>\n",
       "      <td>2</td>\n",
       "      <td>right forearm burn</td>\n",
       "      <td>1</td>\n",
       "      <td>1</td>\n",
       "      <td>2</td>\n",
       "      <td>137</td>\n",
       "      <td>75</td>\n",
       "      <td>60</td>\n",
       "      <td>20</td>\n",
       "      <td>36.5</td>\n",
       "      <td>NaN</td>\n",
       "      <td>4</td>\n",
       "      <td>Burn of hand, firts degree dorsum</td>\n",
       "      <td>1</td>\n",
       "      <td>5</td>\n",
       "      <td>4</td>\n",
       "      <td>64</td>\n",
       "      <td>3,95</td>\n",
       "      <td>1</td>\n",
       "    </tr>\n",
       "    <tr>\n",
       "      <th>2</th>\n",
       "      <td>2</td>\n",
       "      <td>1</td>\n",
       "      <td>68</td>\n",
       "      <td>8</td>\n",
       "      <td>2</td>\n",
       "      <td>2</td>\n",
       "      <td>arm pain, Lt</td>\n",
       "      <td>1</td>\n",
       "      <td>1</td>\n",
       "      <td>2</td>\n",
       "      <td>130</td>\n",
       "      <td>80</td>\n",
       "      <td>102</td>\n",
       "      <td>20</td>\n",
       "      <td>36.6</td>\n",
       "      <td>98</td>\n",
       "      <td>4</td>\n",
       "      <td>Fracture of surgical neck of humerus, closed</td>\n",
       "      <td>2</td>\n",
       "      <td>5</td>\n",
       "      <td>4</td>\n",
       "      <td>862</td>\n",
       "      <td>1,00</td>\n",
       "      <td>1</td>\n",
       "    </tr>\n",
       "    <tr>\n",
       "      <th>3</th>\n",
       "      <td>1</td>\n",
       "      <td>2</td>\n",
       "      <td>71</td>\n",
       "      <td>8</td>\n",
       "      <td>1</td>\n",
       "      <td>1</td>\n",
       "      <td>ascites tapping</td>\n",
       "      <td>1</td>\n",
       "      <td>1</td>\n",
       "      <td>3</td>\n",
       "      <td>139</td>\n",
       "      <td>94</td>\n",
       "      <td>88</td>\n",
       "      <td>20</td>\n",
       "      <td>36.5</td>\n",
       "      <td>NaN</td>\n",
       "      <td>4</td>\n",
       "      <td>Alcoholic liver cirrhosis with ascites</td>\n",
       "      <td>1</td>\n",
       "      <td>5</td>\n",
       "      <td>6</td>\n",
       "      <td>108</td>\n",
       "      <td>9,83</td>\n",
       "      <td>1</td>\n",
       "    </tr>\n",
       "    <tr>\n",
       "      <th>4</th>\n",
       "      <td>1</td>\n",
       "      <td>2</td>\n",
       "      <td>58</td>\n",
       "      <td>4</td>\n",
       "      <td>3</td>\n",
       "      <td>1</td>\n",
       "      <td>distension, abd</td>\n",
       "      <td>1</td>\n",
       "      <td>1</td>\n",
       "      <td>3</td>\n",
       "      <td>91</td>\n",
       "      <td>67</td>\n",
       "      <td>93</td>\n",
       "      <td>18</td>\n",
       "      <td>36.5</td>\n",
       "      <td>NaN</td>\n",
       "      <td>4</td>\n",
       "      <td>Ascites</td>\n",
       "      <td>1</td>\n",
       "      <td>5</td>\n",
       "      <td>8</td>\n",
       "      <td>109</td>\n",
       "      <td>6,60</td>\n",
       "      <td>1</td>\n",
       "    </tr>\n",
       "  </tbody>\n",
       "</table>\n",
       "</div>"
      ],
      "text/plain": [
       "   Group  Sex  Age  Patients number per hour  Arrival mode  Injury  \\\n",
       "0      2    2   71                         3             3       2   \n",
       "1      1    1   56                        12             3       2   \n",
       "2      2    1   68                         8             2       2   \n",
       "3      1    2   71                         8             1       1   \n",
       "4      1    2   58                         4             3       1   \n",
       "\n",
       "       Chief_complain  Mental  Pain NRS_pain  SBP  DBP   HR  RR    BT  \\\n",
       "0   right ocular pain       1     1        2  160  100   84  18  36.6   \n",
       "1  right forearm burn       1     1        2  137   75   60  20  36.5   \n",
       "2        arm pain, Lt       1     1        2  130   80  102  20  36.6   \n",
       "3     ascites tapping       1     1        3  139   94   88  20  36.5   \n",
       "4     distension, abd       1     1        3   91   67   93  18  36.5   \n",
       "\n",
       "  Saturation  KTAS_RN                               Diagnosis in ED  \\\n",
       "0        100        2                              Corneal abrasion   \n",
       "1        NaN        4             Burn of hand, firts degree dorsum   \n",
       "2         98        4  Fracture of surgical neck of humerus, closed   \n",
       "3        NaN        4        Alcoholic liver cirrhosis with ascites   \n",
       "4        NaN        4                                       Ascites   \n",
       "\n",
       "   Disposition  KTAS_expert  Error_group  Length of stay_min  \\\n",
       "0            1            4            2                  86   \n",
       "1            1            5            4                  64   \n",
       "2            2            5            4                 862   \n",
       "3            1            5            6                 108   \n",
       "4            1            5            8                 109   \n",
       "\n",
       "  KTAS duration_min  mistriage  \n",
       "0              5,00          1  \n",
       "1              3,95          1  \n",
       "2              1,00          1  \n",
       "3              9,83          1  \n",
       "4              6,60          1  "
      ]
     },
     "execution_count": 74,
     "metadata": {},
     "output_type": "execute_result"
    }
   ],
   "source": [
    "#################\n",
    "# First 5 rows #\n",
    "#################\n",
    "data.head()"
   ]
  },
  {
   "cell_type": "markdown",
   "metadata": {},
   "source": [
    "## Null Values"
   ]
  },
  {
   "cell_type": "code",
   "execution_count": 75,
   "metadata": {},
   "outputs": [
    {
     "name": "stdout",
     "output_type": "stream",
     "text": [
      "Columns with missing values:\n",
      "NRS_pain           556\n",
      "Saturation         688\n",
      "Diagnosis in ED      2\n",
      "dtype: int64\n"
     ]
    }
   ],
   "source": [
    "###############\n",
    "# Null values #\n",
    "###############\n",
    "\n",
    "missing_values = data.isnull().sum()\n",
    "missing_values = missing_values[missing_values > 0]\n",
    "\n",
    "print(\"Columns with missing values:\")\n",
    "print(missing_values)\n",
    "\n",
    "\n"
   ]
  },
  {
   "cell_type": "markdown",
   "metadata": {},
   "source": [
    "## Unique Values"
   ]
  },
  {
   "cell_type": "code",
   "execution_count": 76,
   "metadata": {},
   "outputs": [
    {
     "name": "stdout",
     "output_type": "stream",
     "text": [
      "Column  Group  has  2  unique values\n",
      "Column  Sex  has  2  unique values\n",
      "Column  Age  has  81  unique values\n",
      "Column  Patients number per hour  has  16  unique values\n",
      "Column  Arrival mode  has  7  unique values\n",
      "Column  Injury  has  2  unique values\n",
      "Column  Chief_complain  has  417  unique values\n",
      "Column  Mental  has  4  unique values\n",
      "Column  Pain  has  2  unique values\n",
      "Column  NRS_pain  has  10  unique values\n",
      "Column  SBP  has  127  unique values\n",
      "Column  DBP  has  83  unique values\n",
      "Column  HR  has  94  unique values\n",
      "Column  RR  has  11  unique values\n",
      "Column  BT  has  46  unique values\n",
      "Column  Saturation  has  22  unique values\n",
      "Column  KTAS_RN  has  5  unique values\n",
      "Column  Diagnosis in ED  has  583  unique values\n",
      "Column  Disposition  has  7  unique values\n",
      "Column  KTAS_expert  has  5  unique values\n",
      "Column  Error_group  has  10  unique values\n",
      "Column  Length of stay_min  has  716  unique values\n",
      "Column  KTAS duration_min  has  392  unique values\n",
      "Column  mistriage  has  3  unique values\n"
     ]
    }
   ],
   "source": [
    "for column in data.columns:\n",
    "  print('Column ', column, ' has ', data[column].nunique(), ' unique values')"
   ]
  },
  {
   "cell_type": "markdown",
   "metadata": {},
   "source": [
    "# Data Preprocessing"
   ]
  },
  {
   "cell_type": "markdown",
   "metadata": {},
   "source": [
    "## Feature Imputation"
   ]
  },
  {
   "cell_type": "code",
   "execution_count": 77,
   "metadata": {},
   "outputs": [
    {
     "name": "stdout",
     "output_type": "stream",
     "text": [
      "Column  NRS_pain  has  556  missing values\n",
      "Column  Saturation  has  688  missing values\n",
      "Column  Diagnosis in ED  has  2  missing values\n"
     ]
    },
    {
     "ename": "ValueError",
     "evalue": "Cannot use median strategy with non-numeric data:\ncould not convert string to float: '??'",
     "output_type": "error",
     "traceback": [
      "\u001b[1;31m---------------------------------------------------------------------------\u001b[0m",
      "\u001b[1;31mValueError\u001b[0m                                Traceback (most recent call last)",
      "\u001b[1;32mc:\\Users\\mafs6\\Documents\\GitHub\\Left4Health_2ndProject\\DataProcess.ipynb Cell 17\u001b[0m line \u001b[0;36m9\n\u001b[0;32m      <a href='vscode-notebook-cell:/c%3A/Users/mafs6/Documents/GitHub/Left4Health_2ndProject/DataProcess.ipynb#X20sZmlsZQ%3D%3D?line=6'>7</a>\u001b[0m \u001b[39mfrom\u001b[39;00m \u001b[39msklearn\u001b[39;00m\u001b[39m.\u001b[39;00m\u001b[39mimpute\u001b[39;00m \u001b[39mimport\u001b[39;00m SimpleImputer\n\u001b[0;32m      <a href='vscode-notebook-cell:/c%3A/Users/mafs6/Documents/GitHub/Left4Health_2ndProject/DataProcess.ipynb#X20sZmlsZQ%3D%3D?line=7'>8</a>\u001b[0m imp \u001b[39m=\u001b[39m SimpleImputer(missing_values\u001b[39m=\u001b[39mnp\u001b[39m.\u001b[39mNaN, strategy\u001b[39m=\u001b[39m\u001b[39m'\u001b[39m\u001b[39mmedian\u001b[39m\u001b[39m'\u001b[39m)\n\u001b[1;32m----> <a href='vscode-notebook-cell:/c%3A/Users/mafs6/Documents/GitHub/Left4Health_2ndProject/DataProcess.ipynb#X20sZmlsZQ%3D%3D?line=8'>9</a>\u001b[0m data[\u001b[39m'\u001b[39m\u001b[39mSaturation\u001b[39m\u001b[39m'\u001b[39m] \u001b[39m=\u001b[39m imp\u001b[39m.\u001b[39;49mfit_transform(data[[\u001b[39m'\u001b[39;49m\u001b[39mSaturation\u001b[39;49m\u001b[39m'\u001b[39;49m]])\n\u001b[0;32m     <a href='vscode-notebook-cell:/c%3A/Users/mafs6/Documents/GitHub/Left4Health_2ndProject/DataProcess.ipynb#X20sZmlsZQ%3D%3D?line=13'>14</a>\u001b[0m \u001b[39m## Check if that is any null values\u001b[39;00m\n\u001b[0;32m     <a href='vscode-notebook-cell:/c%3A/Users/mafs6/Documents/GitHub/Left4Health_2ndProject/DataProcess.ipynb#X20sZmlsZQ%3D%3D?line=14'>15</a>\u001b[0m data\u001b[39m.\u001b[39misnull()\u001b[39m.\u001b[39msum()\n",
      "File \u001b[1;32mc:\\Users\\mafs6\\AppData\\Local\\Programs\\Python\\Python312\\Lib\\site-packages\\sklearn\\utils\\_set_output.py:157\u001b[0m, in \u001b[0;36m_wrap_method_output.<locals>.wrapped\u001b[1;34m(self, X, *args, **kwargs)\u001b[0m\n\u001b[0;32m    155\u001b[0m \u001b[39m@wraps\u001b[39m(f)\n\u001b[0;32m    156\u001b[0m \u001b[39mdef\u001b[39;00m \u001b[39mwrapped\u001b[39m(\u001b[39mself\u001b[39m, X, \u001b[39m*\u001b[39margs, \u001b[39m*\u001b[39m\u001b[39m*\u001b[39mkwargs):\n\u001b[1;32m--> 157\u001b[0m     data_to_wrap \u001b[39m=\u001b[39m f(\u001b[39mself\u001b[39;49m, X, \u001b[39m*\u001b[39;49margs, \u001b[39m*\u001b[39;49m\u001b[39m*\u001b[39;49mkwargs)\n\u001b[0;32m    158\u001b[0m     \u001b[39mif\u001b[39;00m \u001b[39misinstance\u001b[39m(data_to_wrap, \u001b[39mtuple\u001b[39m):\n\u001b[0;32m    159\u001b[0m         \u001b[39m# only wrap the first output for cross decomposition\u001b[39;00m\n\u001b[0;32m    160\u001b[0m         return_tuple \u001b[39m=\u001b[39m (\n\u001b[0;32m    161\u001b[0m             _wrap_data_with_container(method, data_to_wrap[\u001b[39m0\u001b[39m], X, \u001b[39mself\u001b[39m),\n\u001b[0;32m    162\u001b[0m             \u001b[39m*\u001b[39mdata_to_wrap[\u001b[39m1\u001b[39m:],\n\u001b[0;32m    163\u001b[0m         )\n",
      "File \u001b[1;32mc:\\Users\\mafs6\\AppData\\Local\\Programs\\Python\\Python312\\Lib\\site-packages\\sklearn\\base.py:916\u001b[0m, in \u001b[0;36mTransformerMixin.fit_transform\u001b[1;34m(self, X, y, **fit_params)\u001b[0m\n\u001b[0;32m    912\u001b[0m \u001b[39m# non-optimized default implementation; override when a better\u001b[39;00m\n\u001b[0;32m    913\u001b[0m \u001b[39m# method is possible for a given clustering algorithm\u001b[39;00m\n\u001b[0;32m    914\u001b[0m \u001b[39mif\u001b[39;00m y \u001b[39mis\u001b[39;00m \u001b[39mNone\u001b[39;00m:\n\u001b[0;32m    915\u001b[0m     \u001b[39m# fit method of arity 1 (unsupervised transformation)\u001b[39;00m\n\u001b[1;32m--> 916\u001b[0m     \u001b[39mreturn\u001b[39;00m \u001b[39mself\u001b[39;49m\u001b[39m.\u001b[39;49mfit(X, \u001b[39m*\u001b[39;49m\u001b[39m*\u001b[39;49mfit_params)\u001b[39m.\u001b[39mtransform(X)\n\u001b[0;32m    917\u001b[0m \u001b[39melse\u001b[39;00m:\n\u001b[0;32m    918\u001b[0m     \u001b[39m# fit method of arity 2 (supervised transformation)\u001b[39;00m\n\u001b[0;32m    919\u001b[0m     \u001b[39mreturn\u001b[39;00m \u001b[39mself\u001b[39m\u001b[39m.\u001b[39mfit(X, y, \u001b[39m*\u001b[39m\u001b[39m*\u001b[39mfit_params)\u001b[39m.\u001b[39mtransform(X)\n",
      "File \u001b[1;32mc:\\Users\\mafs6\\AppData\\Local\\Programs\\Python\\Python312\\Lib\\site-packages\\sklearn\\base.py:1152\u001b[0m, in \u001b[0;36m_fit_context.<locals>.decorator.<locals>.wrapper\u001b[1;34m(estimator, *args, **kwargs)\u001b[0m\n\u001b[0;32m   1145\u001b[0m     estimator\u001b[39m.\u001b[39m_validate_params()\n\u001b[0;32m   1147\u001b[0m \u001b[39mwith\u001b[39;00m config_context(\n\u001b[0;32m   1148\u001b[0m     skip_parameter_validation\u001b[39m=\u001b[39m(\n\u001b[0;32m   1149\u001b[0m         prefer_skip_nested_validation \u001b[39mor\u001b[39;00m global_skip_validation\n\u001b[0;32m   1150\u001b[0m     )\n\u001b[0;32m   1151\u001b[0m ):\n\u001b[1;32m-> 1152\u001b[0m     \u001b[39mreturn\u001b[39;00m fit_method(estimator, \u001b[39m*\u001b[39;49margs, \u001b[39m*\u001b[39;49m\u001b[39m*\u001b[39;49mkwargs)\n",
      "File \u001b[1;32mc:\\Users\\mafs6\\AppData\\Local\\Programs\\Python\\Python312\\Lib\\site-packages\\sklearn\\impute\\_base.py:369\u001b[0m, in \u001b[0;36mSimpleImputer.fit\u001b[1;34m(self, X, y)\u001b[0m\n\u001b[0;32m    351\u001b[0m \u001b[39m@_fit_context\u001b[39m(prefer_skip_nested_validation\u001b[39m=\u001b[39m\u001b[39mTrue\u001b[39;00m)\n\u001b[0;32m    352\u001b[0m \u001b[39mdef\u001b[39;00m \u001b[39mfit\u001b[39m(\u001b[39mself\u001b[39m, X, y\u001b[39m=\u001b[39m\u001b[39mNone\u001b[39;00m):\n\u001b[0;32m    353\u001b[0m \u001b[39m    \u001b[39m\u001b[39m\"\"\"Fit the imputer on `X`.\u001b[39;00m\n\u001b[0;32m    354\u001b[0m \n\u001b[0;32m    355\u001b[0m \u001b[39m    Parameters\u001b[39;00m\n\u001b[1;32m   (...)\u001b[0m\n\u001b[0;32m    367\u001b[0m \u001b[39m        Fitted estimator.\u001b[39;00m\n\u001b[0;32m    368\u001b[0m \u001b[39m    \"\"\"\u001b[39;00m\n\u001b[1;32m--> 369\u001b[0m     X \u001b[39m=\u001b[39m \u001b[39mself\u001b[39;49m\u001b[39m.\u001b[39;49m_validate_input(X, in_fit\u001b[39m=\u001b[39;49m\u001b[39mTrue\u001b[39;49;00m)\n\u001b[0;32m    371\u001b[0m     \u001b[39m# default fill_value is 0 for numerical input and \"missing_value\"\u001b[39;00m\n\u001b[0;32m    372\u001b[0m     \u001b[39m# otherwise\u001b[39;00m\n\u001b[0;32m    373\u001b[0m     \u001b[39mif\u001b[39;00m \u001b[39mself\u001b[39m\u001b[39m.\u001b[39mfill_value \u001b[39mis\u001b[39;00m \u001b[39mNone\u001b[39;00m:\n",
      "File \u001b[1;32mc:\\Users\\mafs6\\AppData\\Local\\Programs\\Python\\Python312\\Lib\\site-packages\\sklearn\\impute\\_base.py:330\u001b[0m, in \u001b[0;36mSimpleImputer._validate_input\u001b[1;34m(self, X, in_fit)\u001b[0m\n\u001b[0;32m    324\u001b[0m \u001b[39mif\u001b[39;00m \u001b[39m\"\u001b[39m\u001b[39mcould not convert\u001b[39m\u001b[39m\"\u001b[39m \u001b[39min\u001b[39;00m \u001b[39mstr\u001b[39m(ve):\n\u001b[0;32m    325\u001b[0m     new_ve \u001b[39m=\u001b[39m \u001b[39mValueError\u001b[39;00m(\n\u001b[0;32m    326\u001b[0m         \u001b[39m\"\u001b[39m\u001b[39mCannot use \u001b[39m\u001b[39m{}\u001b[39;00m\u001b[39m strategy with non-numeric data:\u001b[39m\u001b[39m\\n\u001b[39;00m\u001b[39m{}\u001b[39;00m\u001b[39m\"\u001b[39m\u001b[39m.\u001b[39mformat(\n\u001b[0;32m    327\u001b[0m             \u001b[39mself\u001b[39m\u001b[39m.\u001b[39mstrategy, ve\n\u001b[0;32m    328\u001b[0m         )\n\u001b[0;32m    329\u001b[0m     )\n\u001b[1;32m--> 330\u001b[0m     \u001b[39mraise\u001b[39;00m new_ve \u001b[39mfrom\u001b[39;00m \u001b[39mNone\u001b[39;00m\n\u001b[0;32m    331\u001b[0m \u001b[39melse\u001b[39;00m:\n\u001b[0;32m    332\u001b[0m     \u001b[39mraise\u001b[39;00m ve\n",
      "\u001b[1;31mValueError\u001b[0m: Cannot use median strategy with non-numeric data:\ncould not convert string to float: '??'"
     ]
    }
   ],
   "source": [
    "## Checking all missing values\n",
    "missing_values = [column for column in data.columns if data[column].isnull().sum() > 0]\n",
    "for column in missing_values:\n",
    "  print('Column ', column, ' has ', data[column].isnull().sum(), ' missing values')\n",
    "\n",
    "\n",
    "from sklearn.impute import SimpleImputer\n",
    "imp = SimpleImputer(missing_values=np.NaN, strategy='median')\n",
    "data['Saturation'] = imp.fit_transform(data[['Saturation']])\n",
    "\n",
    "\n",
    "\n",
    "\n",
    "## Check if that is any null values\n",
    "data.isnull().sum()"
   ]
  },
  {
   "cell_type": "markdown",
   "metadata": {},
   "source": [
    "## Feature Encondig"
   ]
  },
  {
   "cell_type": "markdown",
   "metadata": {},
   "source": [
    "## Feature Normalization"
   ]
  },
  {
   "cell_type": "markdown",
   "metadata": {},
   "source": [
    "## Feature Engineering"
   ]
  }
 ],
 "metadata": {
  "kernelspec": {
   "display_name": "Python 3",
   "language": "python",
   "name": "python3"
  },
  "language_info": {
   "codemirror_mode": {
    "name": "ipython",
    "version": 3
   },
   "file_extension": ".py",
   "mimetype": "text/x-python",
   "name": "python",
   "nbconvert_exporter": "python",
   "pygments_lexer": "ipython3",
   "version": "3.12.0"
  }
 },
 "nbformat": 4,
 "nbformat_minor": 2
}
